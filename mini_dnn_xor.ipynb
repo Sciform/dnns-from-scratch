{
 "cells": [
  {
   "cell_type": "markdown",
   "id": "08f9680e",
   "metadata": {},
   "source": [
    "## Mini Deep Neural Network to learn XOR (from scratch)\n",
    "\n",
    "This notebook implements a Deep Neural Network to learn the XOR - function with Neural Networks from scratch. It only requires numpy."
   ]
  },
  {
   "cell_type": "code",
   "execution_count": 6,
   "id": "c2d3120d",
   "metadata": {},
   "outputs": [],
   "source": [
    "import numpy as np"
   ]
  },
  {
   "cell_type": "markdown",
   "id": "6d7c7d94",
   "metadata": {},
   "source": [
    "## Specify input"
   ]
  },
  {
   "cell_type": "code",
   "execution_count": 7,
   "id": "8e216ce9",
   "metadata": {},
   "outputs": [],
   "source": [
    "# XOR input (X) and output (y)\n",
    "X = np.array([[0, 0],\n",
    "              [0, 1],\n",
    "              [1, 0],\n",
    "              [1, 1]])\n",
    "\n",
    "y = np.array([[0], [1], [1], [0]])\n",
    "\n",
    "# Sigmoid activation and derivative\n",
    "def sigmoid(z):\n",
    "    return 1 / (1 + np.exp(-z))\n",
    "\n",
    "def sigmoid_derivative(a):\n",
    "    return a * (1 - a)\n",
    "\n",
    "# Initialize parameters\n",
    "np.random.seed(42)\n",
    "\n",
    "# Number of neurons per layer\n",
    "input_size = 2\n",
    "hidden_size = 4\n",
    "output_size = 1\n",
    "\n",
    "lr = 0.1  # Learning rate\n",
    "\n",
    "# Initialize weights and biases\n",
    "W1 = np.random.randn(input_size, hidden_size)\n",
    "b1 = np.zeros((1, hidden_size))\n",
    "W2 = np.random.randn(hidden_size, output_size)\n",
    "b2 = np.zeros((1, output_size))"
   ]
  },
  {
   "cell_type": "markdown",
   "id": "339ceea8",
   "metadata": {},
   "source": [
    "## Training loop"
   ]
  },
  {
   "cell_type": "code",
   "execution_count": null,
   "id": "668c577a",
   "metadata": {},
   "outputs": [
    {
     "name": "stdout",
     "output_type": "stream",
     "text": [
      "Epoch 0, Loss: 0.2832\n",
      "Epoch 1000, Loss: 0.2452\n",
      "Epoch 2000, Loss: 0.2124\n",
      "Epoch 3000, Loss: 0.1503\n",
      "Epoch 4000, Loss: 0.0572\n",
      "Epoch 5000, Loss: 0.0209\n",
      "Epoch 6000, Loss: 0.0107\n",
      "Epoch 7000, Loss: 0.0067\n",
      "Epoch 8000, Loss: 0.0047\n",
      "Epoch 9000, Loss: 0.0035\n"
     ]
    }
   ],
   "source": [
    "# Training loop\n",
    "for epoch in range(10000):\n",
    "    \n",
    "    # --- Feedforward pass ---\n",
    "    z1 = X @ W1 + b1\n",
    "    a1 = sigmoid(z1)\n",
    "\n",
    "    z2 = a1 @ W2 + b2\n",
    "    y_hat = sigmoid(z2)  # prediction y_hat\n",
    "\n",
    "    # --- Compute loss (mean squared error) ---\n",
    "    loss = np.mean((y - y_hat) ** 2)\n",
    "\n",
    "    # --- Backpropagation ---\n",
    "    d_loss_y_hat = -(y - y_hat)\n",
    "    d_y_hat_z2 = sigmoid_derivative(y_hat)\n",
    "    d_z2_W2 = a1\n",
    "\n",
    "    dW2 = d_z2_W2.T @ (d_loss_y_hat * d_y_hat_z2)\n",
    "    db2 = np.sum(d_loss_y_hat * d_y_hat_z2, axis=0, keepdims=True)\n",
    "\n",
    "    d_z2_a1 = W2\n",
    "    d_a1_z1 = sigmoid_derivative(a1)\n",
    "\n",
    "    dW1 = X.T @ ((d_loss_y_hat * d_y_hat_z2) @ d_z2_a1.T * d_a1_z1)\n",
    "    db1 = np.sum((d_loss_y_hat * d_y_hat_z2) @ d_z2_a1.T * d_a1_z1, axis=0, keepdims=True)\n",
    "\n",
    "    # --- Gradient descent update ---\n",
    "    W2 -= lr * dW2\n",
    "    b2 -= lr * db2\n",
    "    W1 -= lr * dW1\n",
    "    b1 -= lr * db1\n",
    "\n",
    "    if epoch % 1000 == 0:\n",
    "        print(f\"Epoch {epoch}, Loss: {loss:.5f}\")"
   ]
  },
  {
   "cell_type": "markdown",
   "id": "5d6bb02f",
   "metadata": {},
   "source": [
    "## Prediction"
   ]
  },
  {
   "cell_type": "code",
   "execution_count": 9,
   "id": "68b44c12",
   "metadata": {},
   "outputs": [
    {
     "name": "stdout",
     "output_type": "stream",
     "text": [
      "\n",
      "Predictions after training:\n",
      "[[0.037]\n",
      " [0.949]\n",
      " [0.945]\n",
      " [0.064]]\n"
     ]
    }
   ],
   "source": [
    "# Final predictions\n",
    "print(\"\\nPredictions after training:\")\n",
    "print(np.round(a2, 3))"
   ]
  }
 ],
 "metadata": {
  "kernelspec": {
   "display_name": ".venv",
   "language": "python",
   "name": "python3"
  },
  "language_info": {
   "codemirror_mode": {
    "name": "ipython",
    "version": 3
   },
   "file_extension": ".py",
   "mimetype": "text/x-python",
   "name": "python",
   "nbconvert_exporter": "python",
   "pygments_lexer": "ipython3",
   "version": "3.13.0"
  }
 },
 "nbformat": 4,
 "nbformat_minor": 5
}
