{
 "cells": [
  {
   "cell_type": "markdown",
   "id": "08f9680e",
   "metadata": {},
   "source": [
    "## Mini Deep Neural Network to learn XOR (from scratch)\n",
    "\n",
    "This notebook implements a Deep Neural Network to learn the XOR - function with Neural Networks from scratch. It only requires numpy. The challenge of learning XOR — a non-linearly separable problem — has a long and influential history in neural network research, and today it serves as a classic toy example for demonstrating the power of deep learning.\n",
    "\n",
    "## History of Deep Neural Networks and the XOR Problem\n",
    "\n",
    "### 1958 – The Perceptron (Frank Rosenblatt)\n",
    "- Introduced the single-layer perceptron.\n",
    "- Could only solve linearly separable problems (e.g. AND, OR).\n",
    "- Failed to solve XOR — a non-linearly separable problem.\n",
    "\n",
    "### 1969 – Minsky & Papert’s Critique\n",
    "- Published *\"Perceptrons\"* book.\n",
    "- Proved mathematically that perceptrons cannot solve the XOR problem.\n",
    "- This led to a significant decline in neural network research (known as the \"AI Winter\").\n",
    "\n",
    "### 1986 – Backpropagation and the Revival\n",
    "- Rumelhart, Hinton, and Williams introduced the backpropagation algorithm.\n",
    "- Showed that multi-layer networks (with hidden layers and non-linear activations) can solve XOR.\n",
    "- This marked the rebirth of interest in neural networks and deep learning.\n",
    "\n",
    "### XOR as a Benchmark Problem\n",
    "- XOR became a standard test case for demonstrating:\n",
    "  - The power of hidden layers.\n",
    "  - Non-linear decision boundaries.\n",
    "  - Correctness of backpropagation implementations.\n",
    "\n",
    "### Summary Table\n",
    "\n",
    "| Year | Milestone                          | Significance                                |\n",
    "|------|------------------------------------|---------------------------------------------|\n",
    "| 1958 | Rosenblatt’s Perceptron            | First neural net, couldn't solve XOR        |\n",
    "| 1969 | Minsky & Papert's critique         | Proved XOR unsolvable with perceptrons      |\n",
    "| 1986 | Backpropagation by Rumelhart et al | Multi-layer networks can learn XOR          |\n",
    "| Today| XOR in teaching and benchmarking   | A classic test for non-linear learning      |\n"
   ]
  },
  {
   "cell_type": "code",
   "execution_count": 37,
   "id": "c2d3120d",
   "metadata": {},
   "outputs": [],
   "source": [
    "import numpy as np"
   ]
  },
  {
   "cell_type": "markdown",
   "id": "6d7c7d94",
   "metadata": {},
   "source": [
    "## Specify input"
   ]
  },
  {
   "cell_type": "code",
   "execution_count": 38,
   "id": "8e216ce9",
   "metadata": {},
   "outputs": [],
   "source": [
    "# XOR input (X) and output (y)\n",
    "X = np.array([[0, 0],\n",
    "              [0, 1],\n",
    "              [1, 0],\n",
    "              [1, 1]])\n",
    "\n",
    "y = np.array([[0], [1], [1], [0]])\n",
    "\n",
    "# Sigmoid activation and derivative\n",
    "def sigmoid(z):\n",
    "    return 1 / (1 + np.exp(-z))\n",
    "\n",
    "def sigmoid_derivative(a):\n",
    "    return a * (1 - a)\n",
    "\n",
    "# Initialize parameters\n",
    "np.random.seed(42)\n",
    "\n",
    "# Number of neurons per layer\n",
    "input_size = 2\n",
    "hidden_size = 4\n",
    "output_size = 1\n",
    "\n",
    "lr = 0.1  # Learning rate\n",
    "\n",
    "# Initialize weights and biases\n",
    "W1 = np.random.randn(input_size, hidden_size)\n",
    "b1 = np.zeros((1, hidden_size))\n",
    "W2 = np.random.randn(hidden_size, output_size)\n",
    "b2 = np.zeros((1, output_size))"
   ]
  },
  {
   "cell_type": "markdown",
   "id": "339ceea8",
   "metadata": {},
   "source": [
    "## Training loop\n",
    "\n",
    "### Backpropagation\n",
    "\n",
    "$\\delta^{[2]} = - (y - \\hat{y}) \\cdot \\sigma'(\\hat{y})$\n",
    "\n",
    "$\\nabla W^{[2]} = (a^{[1]})^\\top \\cdot \\delta^{[2]}$\n",
    "\n",
    "$\\nabla b^{[2]} = \\sum \\delta^{[2]}$ &nbsp;&nbsp; (*across batch*)\n",
    "\n",
    "$\\delta^{[1]} = (\\delta^{[2]} \\cdot (W^{[2]})^\\top) \\cdot \\sigma'(a^{[1]})$\n",
    "\n",
    "$\\nabla W^{[1]} = X^\\top \\cdot \\delta^{[1]}$\n",
    "\n",
    "$\\nabla b^{[1]} = \\sum \\delta^{[1]}$ &nbsp;&nbsp; (*across batch*)\n",
    "\n",
    "---\n",
    "\n",
    "### Gradient Descent Update\n",
    "\n",
    "$W^{[2]} \\leftarrow W^{[2]} - \\eta \\cdot \\nabla W^{[2]}$\n",
    "\n",
    "$b^{[2]} \\leftarrow b^{[2]} - \\eta \\cdot \\nabla b^{[2]}$\n",
    "\n",
    "$W^{[1]} \\leftarrow W^{[1]} - \\eta \\cdot \\nabla W^{[1]}$\n",
    "\n",
    "$b^{[1]} \\leftarrow b^{[1]} - \\eta \\cdot \\nabla b^{[1]}$\n"
   ]
  },
  {
   "cell_type": "code",
   "execution_count": 39,
   "id": "668c577a",
   "metadata": {},
   "outputs": [
    {
     "name": "stdout",
     "output_type": "stream",
     "text": [
      "Epoch 0, Loss: 0.28319\n",
      "Epoch 1000, Loss: 0.24523\n",
      "Epoch 2000, Loss: 0.21241\n",
      "Epoch 3000, Loss: 0.15033\n",
      "Epoch 4000, Loss: 0.05716\n",
      "Epoch 5000, Loss: 0.02093\n",
      "Epoch 6000, Loss: 0.01068\n",
      "Epoch 7000, Loss: 0.00668\n",
      "Epoch 8000, Loss: 0.00468\n",
      "Epoch 9000, Loss: 0.00353\n",
      "Epoch 10000, Loss: 0.00279\n",
      "Epoch 11000, Loss: 0.00228\n",
      "Epoch 12000, Loss: 0.00192\n",
      "Epoch 13000, Loss: 0.00164\n",
      "Epoch 14000, Loss: 0.00143\n",
      "Epoch 15000, Loss: 0.00126\n",
      "Epoch 16000, Loss: 0.00113\n",
      "Epoch 17000, Loss: 0.00102\n",
      "Epoch 18000, Loss: 0.00092\n",
      "Epoch 19000, Loss: 0.00084\n"
     ]
    }
   ],
   "source": [
    "# Training loop\n",
    "for epoch in range(20000):\n",
    "    \n",
    "    # --- Feedforward pass ---\n",
    "    z1 = X @ W1 + b1\n",
    "    a1 = sigmoid(z1)\n",
    "\n",
    "    z2 = a1 @ W2 + b2\n",
    "    y_hat = sigmoid(z2)  # prediction y_hat\n",
    "\n",
    "    # --- Compute loss (mean squared error) ---\n",
    "    loss = np.mean((y - y_hat) ** 2)\n",
    "\n",
    "    # --- Backpropagation ---\n",
    "    d_loss_y_hat = -(y - y_hat)\n",
    "    d_y_hat_z2 = sigmoid_derivative(y_hat)\n",
    "    d_z2_W2 = a1\n",
    "\n",
    "    dW2 = d_z2_W2.T @ (d_loss_y_hat * d_y_hat_z2)\n",
    "    db2 = np.sum(d_loss_y_hat * d_y_hat_z2, axis=0, keepdims=True)\n",
    "\n",
    "    d_z2_a1 = W2\n",
    "    d_a1_z1 = sigmoid_derivative(a1)\n",
    "\n",
    "    dW1 = X.T @ ((d_loss_y_hat * d_y_hat_z2) @ d_z2_a1.T * d_a1_z1)\n",
    "    db1 = np.sum((d_loss_y_hat * d_y_hat_z2) @ d_z2_a1.T * d_a1_z1, axis=0, keepdims=True)\n",
    "\n",
    "    # --- Gradient descent update ---\n",
    "    W2 -= lr * dW2\n",
    "    b2 -= lr * db2\n",
    "    W1 -= lr * dW1\n",
    "    b1 -= lr * db1\n",
    "\n",
    "    if epoch % 1000 == 0:\n",
    "        print(f\"Epoch {epoch}, Loss: {loss:.5f}\")"
   ]
  },
  {
   "cell_type": "markdown",
   "id": "5d6bb02f",
   "metadata": {},
   "source": [
    "## Prediction"
   ]
  },
  {
   "cell_type": "code",
   "execution_count": 40,
   "id": "68b44c12",
   "metadata": {},
   "outputs": [
    {
     "name": "stdout",
     "output_type": "stream",
     "text": [
      "\n",
      "Predictions after training:\n",
      "[[0.02 ]\n",
      " [0.974]\n",
      " [0.97 ]\n",
      " [0.034]]\n",
      "mse =  0.000775122615185277\n"
     ]
    }
   ],
   "source": [
    "# Final predictions\n",
    "print(\"\\nPredictions after training:\")\n",
    "print(np.round(y_hat, 3))\n",
    "print(\"mse = \", np.mean((y - y_hat) ** 2))"
   ]
  }
 ],
 "metadata": {
  "kernelspec": {
   "display_name": ".venv",
   "language": "python",
   "name": "python3"
  },
  "language_info": {
   "codemirror_mode": {
    "name": "ipython",
    "version": 3
   },
   "file_extension": ".py",
   "mimetype": "text/x-python",
   "name": "python",
   "nbconvert_exporter": "python",
   "pygments_lexer": "ipython3",
   "version": "3.13.0"
  }
 },
 "nbformat": 4,
 "nbformat_minor": 5
}
